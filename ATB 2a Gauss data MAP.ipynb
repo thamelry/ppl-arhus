{
 "cells": [
  {
   "cell_type": "markdown",
   "metadata": {},
   "source": [
    "# Inference of Gaussian parameters"
   ]
  },
  {
   "cell_type": "markdown",
   "metadata": {},
   "source": [
    "Now we add some simulated Gaussian data.\n",
    "\n",
    "1. Where are the priors specified and which distributions are used for which variables? \n",
    "2. Where is the data brought in?\n",
    "3. Draw the model as a graphical model. Include all latent variables (use circles) and hyperparameters (use dots).\n",
    "4. Is this now a full Bayesian treatment of the problem?\n",
    "5. Change the parameters of the priors and the amount of simulated data points. Examine how the output changes."
   ]
  },
  {
   "cell_type": "code",
   "execution_count": 1,
   "metadata": {},
   "outputs": [
    {
     "name": "stdout",
     "output_type": "stream",
     "text": [
      "Optimization terminated successfully.\n",
      "         Current function value: 2124.233577\n",
      "         Iterations: 9\n",
      "         Function evaluations: 13\n",
      "         Gradient evaluations: 13\n",
      "{'mu': array(1.000733842442131), 'sigma_log_': array(0.7007887695065942)}\n",
      "Sigma:  2.0153417208\n"
     ]
    }
   ],
   "source": [
    "import pymc3 as pm\n",
    "import numpy as np\n",
    "\n",
    "# Generate some Gaussian data\n",
    "m=1 # mean\n",
    "s=2 # standard deviation\n",
    "n=1000 # number of data points\n",
    "data=np.random.normal(m, s, n)\n",
    "\n",
    "# Create pyMC3 model object\n",
    "gauss_model = pm.Model()\n",
    "\n",
    "with gauss_model:\n",
    "    # Priors\n",
    "    mu = pm.Normal('mu', mu=0, sd=1)\n",
    "    sigma = pm.HalfNormal('sigma', sd=1)\n",
    "\n",
    "    # Likelihood\n",
    "    obs = pm.Normal('obs', mu=mu, sd=sigma, observed=data)\n",
    "\n",
    "    map_estimate = pm.find_MAP()\n",
    "\n",
    "    print(map_estimate)\n",
    "    \n",
    "    s=map_estimate['sigma_log_']\n",
    "    print(\"Sigma: \", np.exp(s))"
   ]
  },
  {
   "cell_type": "code",
   "execution_count": null,
   "metadata": {
    "collapsed": true
   },
   "outputs": [],
   "source": []
  }
 ],
 "metadata": {
  "kernelspec": {
   "display_name": "Python 3",
   "language": "python",
   "name": "python3"
  },
  "language_info": {
   "codemirror_mode": {
    "name": "ipython",
    "version": 3
   },
   "file_extension": ".py",
   "mimetype": "text/x-python",
   "name": "python",
   "nbconvert_exporter": "python",
   "pygments_lexer": "ipython3",
   "version": "3.6.1"
  }
 },
 "nbformat": 4,
 "nbformat_minor": 2
}
