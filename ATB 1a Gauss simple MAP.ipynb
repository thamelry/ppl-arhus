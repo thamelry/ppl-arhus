{
 "cells": [
  {
   "cell_type": "markdown",
   "metadata": {},
   "source": [
    "# Gaussian distribution\n",
    "\n",
    "This is our first pyMC3 model. It simply creates a Gaussian distribution with mean=3 and standard deviation=1. \n",
    "\n",
    "1. Run the model and examine the output. \n",
    "2. What does find_MAP accomplish? Is the output what you expect? \n",
    "3. How is the output affected when you change the mean and/or the standard deviation ?"
   ]
  },
  {
   "cell_type": "code",
   "execution_count": 1,
   "metadata": {},
   "outputs": [
    {
     "name": "stdout",
     "output_type": "stream",
     "text": [
      "Optimization terminated successfully.\n",
      "         Current function value: 0.918939\n",
      "         Iterations: 0\n",
      "         Function evaluations: 1\n",
      "         Gradient evaluations: 1\n",
      "{'x': array(3.0)}\n"
     ]
    }
   ],
   "source": [
    "import pymc3 as pm\n",
    "\n",
    "# Create pyMC3 model object\n",
    "gauss_model = pm.Model()\n",
    "\n",
    "with gauss_model:\n",
    "    x = pm.Normal('x', mu=3, sd=1)\n",
    "\n",
    "    map_estimate = pm.find_MAP()\n",
    "\n",
    "    print(map_estimate)\n"
   ]
  },
  {
   "cell_type": "markdown",
   "metadata": {
    "collapsed": true
   },
   "source": []
  },
  {
   "cell_type": "code",
   "execution_count": null,
   "metadata": {
    "collapsed": true
   },
   "outputs": [],
   "source": []
  }
 ],
 "metadata": {
  "kernelspec": {
   "display_name": "Python 3",
   "language": "python",
   "name": "python3"
  },
  "language_info": {
   "codemirror_mode": {
    "name": "ipython",
    "version": 3
   },
   "file_extension": ".py",
   "mimetype": "text/x-python",
   "name": "python",
   "nbconvert_exporter": "python",
   "pygments_lexer": "ipython3",
   "version": "3.6.1"
  }
 },
 "nbformat": 4,
 "nbformat_minor": 2
}
